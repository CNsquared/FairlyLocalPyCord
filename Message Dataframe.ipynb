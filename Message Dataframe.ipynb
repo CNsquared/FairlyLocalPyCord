{
 "cells": [
  {
   "cell_type": "code",
   "execution_count": 1,
   "metadata": {},
   "outputs": [],
   "source": [
    "import numpy as np\n",
    "import pandas as pd"
   ]
  },
  {
   "cell_type": "code",
   "execution_count": 3,
   "metadata": {},
   "outputs": [
    {
     "data": {
      "text/html": [
       "<div>\n",
       "<style scoped>\n",
       "    .dataframe tbody tr th:only-of-type {\n",
       "        vertical-align: middle;\n",
       "    }\n",
       "\n",
       "    .dataframe tbody tr th {\n",
       "        vertical-align: top;\n",
       "    }\n",
       "\n",
       "    .dataframe thead th {\n",
       "        text-align: right;\n",
       "    }\n",
       "</style>\n",
       "<table border=\"1\" class=\"dataframe\">\n",
       "  <thead>\n",
       "    <tr style=\"text-align: right;\">\n",
       "      <th></th>\n",
       "      <th>Author</th>\n",
       "      <th>Date</th>\n",
       "      <th>Channel</th>\n",
       "      <th>Message</th>\n",
       "    </tr>\n",
       "  </thead>\n",
       "  <tbody>\n",
       "    <tr>\n",
       "      <th>0</th>\n",
       "      <td>CNsquared</td>\n",
       "      <td>2022-12-23 22:11:26.676000+00:00</td>\n",
       "      <td>cse-12</td>\n",
       "      <td>itzy</td>\n",
       "    </tr>\n",
       "    <tr>\n",
       "      <th>1</th>\n",
       "      <td>CNsquared</td>\n",
       "      <td>2022-12-23 22:11:48.647000+00:00</td>\n",
       "      <td>cse-12</td>\n",
       "      <td>test</td>\n",
       "    </tr>\n",
       "    <tr>\n",
       "      <th>2</th>\n",
       "      <td>CNsquared</td>\n",
       "      <td>2022-12-23</td>\n",
       "      <td>cse-12</td>\n",
       "      <td>log</td>\n",
       "    </tr>\n",
       "    <tr>\n",
       "      <th>3</th>\n",
       "      <td>CNsquared</td>\n",
       "      <td>2022-12-23 22:16:59.952000</td>\n",
       "      <td>cse-12</td>\n",
       "      <td>log</td>\n",
       "    </tr>\n",
       "    <tr>\n",
       "      <th>4</th>\n",
       "      <td>CNsquared</td>\n",
       "      <td>2022-12-23 22-19</td>\n",
       "      <td>cse-12</td>\n",
       "      <td>log test</td>\n",
       "    </tr>\n",
       "    <tr>\n",
       "      <th>...</th>\n",
       "      <td>...</td>\n",
       "      <td>...</td>\n",
       "      <td>...</td>\n",
       "      <td>...</td>\n",
       "    </tr>\n",
       "    <tr>\n",
       "      <th>994</th>\n",
       "      <td>laeloria</td>\n",
       "      <td>2023-11-29 4:51:2</td>\n",
       "      <td>discord-dms</td>\n",
       "      <td>do we really want tgat</td>\n",
       "    </tr>\n",
       "    <tr>\n",
       "      <th>995</th>\n",
       "      <td>cn.squared</td>\n",
       "      <td>2023-11-29 4:52:16</td>\n",
       "      <td>discord-dms</td>\n",
       "      <td>dw its just me</td>\n",
       "    </tr>\n",
       "    <tr>\n",
       "      <th>996</th>\n",
       "      <td>cn.squared</td>\n",
       "      <td>2023-11-29 4:52:23</td>\n",
       "      <td>discord-dms</td>\n",
       "      <td>its for a class assignment</td>\n",
       "    </tr>\n",
       "    <tr>\n",
       "      <th>997</th>\n",
       "      <td>cn.squared</td>\n",
       "      <td>2023-11-29 4:52:29</td>\n",
       "      <td>discord-dms</td>\n",
       "      <td>i see nothing that could go wrong</td>\n",
       "    </tr>\n",
       "    <tr>\n",
       "      <th>998</th>\n",
       "      <td>cn.squared</td>\n",
       "      <td>2023-11-29 6:7:45</td>\n",
       "      <td>general</td>\n",
       "      <td>test</td>\n",
       "    </tr>\n",
       "  </tbody>\n",
       "</table>\n",
       "<p>999 rows × 4 columns</p>\n",
       "</div>"
      ],
      "text/plain": [
       "         Author                              Date      Channel  \\\n",
       "0     CNsquared  2022-12-23 22:11:26.676000+00:00       cse-12   \n",
       "1     CNsquared  2022-12-23 22:11:48.647000+00:00       cse-12   \n",
       "2     CNsquared                        2022-12-23       cse-12   \n",
       "3     CNsquared        2022-12-23 22:16:59.952000       cse-12   \n",
       "4     CNsquared                  2022-12-23 22-19       cse-12   \n",
       "..          ...                               ...          ...   \n",
       "994    laeloria                 2023-11-29 4:51:2  discord-dms   \n",
       "995  cn.squared                2023-11-29 4:52:16  discord-dms   \n",
       "996  cn.squared                2023-11-29 4:52:23  discord-dms   \n",
       "997  cn.squared                2023-11-29 4:52:29  discord-dms   \n",
       "998  cn.squared                 2023-11-29 6:7:45      general   \n",
       "\n",
       "                               Message  \n",
       "0                                 itzy  \n",
       "1                                 test  \n",
       "2                                  log  \n",
       "3                                  log  \n",
       "4                             log test  \n",
       "..                                 ...  \n",
       "994             do we really want tgat  \n",
       "995                     dw its just me  \n",
       "996         its for a class assignment  \n",
       "997  i see nothing that could go wrong  \n",
       "998                               test  \n",
       "\n",
       "[999 rows x 4 columns]"
      ]
     },
     "execution_count": 3,
     "metadata": {},
     "output_type": "execute_result"
    }
   ],
   "source": [
    "messages = pd.read_csv(\"messageLog.csv\")\n",
    "messages"
   ]
  },
  {
   "cell_type": "code",
   "execution_count": 83,
   "metadata": {},
   "outputs": [
    {
     "data": {
      "text/html": [
       "<div>\n",
       "<style scoped>\n",
       "    .dataframe tbody tr th:only-of-type {\n",
       "        vertical-align: middle;\n",
       "    }\n",
       "\n",
       "    .dataframe tbody tr th {\n",
       "        vertical-align: top;\n",
       "    }\n",
       "\n",
       "    .dataframe thead th {\n",
       "        text-align: right;\n",
       "    }\n",
       "</style>\n",
       "<table border=\"1\" class=\"dataframe\">\n",
       "  <thead>\n",
       "    <tr style=\"text-align: right;\">\n",
       "      <th></th>\n",
       "      <th>Message</th>\n",
       "    </tr>\n",
       "    <tr>\n",
       "      <th>Author</th>\n",
       "      <th></th>\n",
       "    </tr>\n",
       "  </thead>\n",
       "  <tbody>\n",
       "    <tr>\n",
       "      <th>CNsquared</th>\n",
       "      <td>531</td>\n",
       "    </tr>\n",
       "    <tr>\n",
       "      <th>Hyru</th>\n",
       "      <td>53</td>\n",
       "    </tr>\n",
       "    <tr>\n",
       "      <th>KnEx</th>\n",
       "      <td>53</td>\n",
       "    </tr>\n",
       "    <tr>\n",
       "      <th>Laeloria</th>\n",
       "      <td>116</td>\n",
       "    </tr>\n",
       "    <tr>\n",
       "      <th>bellebuddy</th>\n",
       "      <td>154</td>\n",
       "    </tr>\n",
       "    <tr>\n",
       "      <th>cn.squared</th>\n",
       "      <td>15</td>\n",
       "    </tr>\n",
       "    <tr>\n",
       "      <th>golemz</th>\n",
       "      <td>1</td>\n",
       "    </tr>\n",
       "    <tr>\n",
       "      <th>its_ash</th>\n",
       "      <td>17</td>\n",
       "    </tr>\n",
       "    <tr>\n",
       "      <th>its_ashpee</th>\n",
       "      <td>1</td>\n",
       "    </tr>\n",
       "    <tr>\n",
       "      <th>kp</th>\n",
       "      <td>41</td>\n",
       "    </tr>\n",
       "    <tr>\n",
       "      <th>laeloria</th>\n",
       "      <td>2</td>\n",
       "    </tr>\n",
       "  </tbody>\n",
       "</table>\n",
       "</div>"
      ],
      "text/plain": [
       "            Message\n",
       "Author             \n",
       "CNsquared       531\n",
       "Hyru             53\n",
       "KnEx             53\n",
       "Laeloria        116\n",
       "bellebuddy      154\n",
       "cn.squared       15\n",
       "golemz            1\n",
       "its_ash          17\n",
       "its_ashpee        1\n",
       "kp               41\n",
       "laeloria          2"
      ]
     },
     "execution_count": 83,
     "metadata": {},
     "output_type": "execute_result"
    }
   ],
   "source": [
    "counts = messages.groupby('Author').count().get(['Message'])\n",
    "counts\n"
   ]
  },
  {
   "cell_type": "code",
   "execution_count": 87,
   "metadata": {},
   "outputs": [
    {
     "data": {
      "image/png": "[encoded data removed]",
      "text/plain": [
       "<Figure size 640x480 with 1 Axes>"
      ]
     },
     "metadata": {},
     "output_type": "display_data"
    }
   ],
   "source": [
    "counts.plot(kind = 'barh');"
   ]
  },
  {
   "cell_type": "code",
   "execution_count": 91,
   "metadata": {},
   "outputs": [
    {
     "data": {
      "text/plain": [
       "Channel\n",
       "Mentally Disabled Gaming      2\n",
       "admin-bots                  334\n",
       "bots                         63\n",
       "clips-and-ss                 41\n",
       "cse-12                       94\n",
       "cse-15l                       2\n",
       "cse-20                       19\n",
       "cse-21                        3\n",
       "discord-dms                  10\n",
       "general                     193\n",
       "google-hangouts             174\n",
       "mmw-12                        4\n",
       "random                        3\n",
       "re-education-camp             1\n",
       "terraria                     34\n",
       "train-ai                      9\n",
       "train🚆                       13\n",
       "Name: Author, dtype: int64"
      ]
     },
     "execution_count": 91,
     "metadata": {},
     "output_type": "execute_result"
    }
   ],
   "source": [
    "channels = messages.groupby('Channel').count().get('Author')\n",
    "channels"
   ]
  },
  {
   "cell_type": "code",
   "execution_count": 93,
   "metadata": {},
   "outputs": [
    {
     "name": "stderr",
     "output_type": "stream",
     "text": [
      "/Users/matthewwong/Documents/GitHub/FairlyLocalPyCord/.venv/lib/python3.9/site-packages/IPython/core/events.py:82: UserWarning: Glyph 128646 (\\N{TRAIN}) missing from current font.\n",
      "  func(*args, **kwargs)\n",
      "/Users/matthewwong/Documents/GitHub/FairlyLocalPyCord/.venv/lib/python3.9/site-packages/IPython/core/pylabtools.py:152: UserWarning: Glyph 128646 (\\N{TRAIN}) missing from current font.\n",
      "  fig.canvas.print_figure(bytes_io, **kw)\n"
     ]
    },
    {
     "data": {
      "image/png": "[encoded data removed]",
      "text/plain": [
       "<Figure size 640x480 with 1 Axes>"
      ]
     },
     "metadata": {},
     "output_type": "display_data"
    }
   ],
   "source": [
    "channels.plot(kind = 'barh');"
   ]
  },
  {
   "cell_type": "code",
   "execution_count": 59,
   "metadata": {},
   "outputs": [
    {
     "data": {
      "text/plain": [
       "0                                         [itzy]\n",
       "1                                         [test]\n",
       "2                                          [log]\n",
       "3                                          [log]\n",
       "4                                    [log, test]\n",
       "                         ...                    \n",
       "993                        [do, you, like, them]\n",
       "995                          [dw, its, just, me]\n",
       "996             [its, for, a, class, assignment]\n",
       "997    [i, see, nothing, that, could, go, wrong]\n",
       "998                                       [test]\n",
       "Name: Message, Length: 555, dtype: object"
      ]
     },
     "execution_count": 59,
     "metadata": {},
     "output_type": "execute_result"
    }
   ],
   "source": [
    "words = messages[(messages.get('Author') == 'CNsquared') | (messages.get('Author') == 'cn.squared')].get('Message').str.lower().str.split()\n",
    "words"
   ]
  },
  {
   "cell_type": "code",
   "execution_count": null,
   "metadata": {},
   "outputs": [],
   "source": []
  }
 ],
 "metadata": {
  "kernelspec": {
   "display_name": "Python 3",
   "language": "python",
   "name": "python3"
  },
  "language_info": {
   "codemirror_mode": {
    "name": "ipython",
    "version": 3
   },
   "file_extension": ".py",
   "mimetype": "text/x-python",
   "name": "python",
   "nbconvert_exporter": "python",
   "pygments_lexer": "ipython3",
   "version": "3.9.6"
  }
 },
 "nbformat": 4,
 "nbformat_minor": 2
}
